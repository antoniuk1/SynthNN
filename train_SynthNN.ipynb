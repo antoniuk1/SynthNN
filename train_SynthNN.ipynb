{
 "cells": [
  {
   "cell_type": "code",
   "execution_count": 1,
   "id": "9f5625fc",
   "metadata": {},
   "outputs": [],
   "source": [
    "import numpy as np\n",
    "import matplotlib.pyplot as plt\n",
    "from io import StringIO \n",
    "import re\n",
    "import pymatgen as mg\n",
    "import tensorflow as tf\n",
    "import random\n",
    "import os\n",
    "from pymatgen.core.periodic_table import Element\n",
    "import linecache\n",
    "from SynthNN.utils import load_data,get_batch_val,get_features,random_lines,SemiTransform,get_batch,perf_measure\n",
    "from SynthNN.synthnn_train import train_synthNN"
   ]
  },
  {
   "cell_type": "code",
   "execution_count": 4,
   "id": "0ec279bf",
   "metadata": {},
   "outputs": [],
   "source": [
    "params_dict={'M':30, #Dimension of formula embedding; Default=30\n",
    "            'tstep':5e-3, #Size of training step for Adam Optimizer; Default=5e-3\n",
    "            'num_steps':800000, #Total number of training steps following relabelling of unsynthesized examples; Default=800000\n",
    "            'no_h1':60, #Size of first hidden layer of NN; Default=60\n",
    "            'no_h2':40, #Size of second hidden layer of NN; Default=40\n",
    "            'batch_size':512, #Batch size used in training; Default=512\n",
    "            'semi_starting':2000, #Number of training steps to use in initial relabelling of unsynthesized examples; Default=60000\n",
    "            'positive_example_file_path':'Datasets/icsd_500_examples.txt', #Path to file containing synthesized examples\n",
    "            'negative_example_file_path':'Datasets/full_unsynthesized_examples.txt', #Path to file containing unsynthesized examples \n",
    "            'output_dir_name': './Trained_models/New_model3/',\n",
    "            'train_split': 0.90, #Proportion of data used for training; Default=0.90\n",
    "            'val_split':0.05, #Proportion of data used for validation; Default=0.05\n",
    "            'test_split':0.05 #Proportion of data used for test set; Default=0.05\n",
    "            }"
   ]
  },
  {
   "cell_type": "code",
   "execution_count": null,
   "id": "9403bb58",
   "metadata": {},
   "outputs": [
    {
     "name": "stdout",
     "output_type": "stream",
     "text": [
      "Found 1132884 negative examples.\n",
      "Found 500 positive examples.\n",
      "Using a Nsynth Ratio of: 2265\n",
      "WARNING:tensorflow:From /opt/anaconda3/lib/python3.8/site-packages/tensorflow/python/util/tf_should_use.py:247: initialize_all_variables (from tensorflow.python.ops.variables) is deprecated and will be removed after 2017-03-02.\n",
      "Instructions for updating:\n",
      "Use `tf.global_variables_initializer` instead.\n",
      "Model Initial Training\n",
      "On Step #0/2000\n",
      "Train Acc., Validation Acc., #TP, #FP, #TN, #FN\n",
      "[0.37890625, 0.32309484, 20, 38341, 18283, 5]\n",
      "On Step #1000/2000\n",
      "Train Acc., Validation Acc., #TP, #FP, #TN, #FN\n",
      "[1.0, 0.99938214, 0, 10, 56614, 25]\n",
      "Doing Semi-supervised Learning\n",
      "[0.609375, 0.60837793, 10, 22170, 34454, 15]\n",
      "[0.9746094, 0.9791347, 1, 1158, 55466, 24]\n",
      "[0.9980469, 0.9926036, 1, 395, 56229, 24]\n"
     ]
    }
   ],
   "source": [
    "train_synthNN(params_dict)"
   ]
  },
  {
   "cell_type": "code",
   "execution_count": null,
   "id": "88e55b93",
   "metadata": {},
   "outputs": [],
   "source": []
  }
 ],
 "metadata": {
  "kernelspec": {
   "display_name": "Python 3",
   "language": "python",
   "name": "python3"
  },
  "language_info": {
   "codemirror_mode": {
    "name": "ipython",
    "version": 3
   },
   "file_extension": ".py",
   "mimetype": "text/x-python",
   "name": "python",
   "nbconvert_exporter": "python",
   "pygments_lexer": "ipython3",
   "version": "3.8.8"
  }
 },
 "nbformat": 4,
 "nbformat_minor": 5
}
