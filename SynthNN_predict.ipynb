{
 "cells": [
  {
   "cell_type": "code",
   "execution_count": 1,
   "id": "53f41ef9",
   "metadata": {},
   "outputs": [],
   "source": [
    "#from SynthNN.utils import synthNN_predict\n",
    "import numpy as np\n",
    "from SynthNN.utils import get_features, synthNN_predict\n",
    "import tensorflow as tf\n",
    "import os"
   ]
  },
  {
   "cell_type": "markdown",
   "id": "8bfb2af5",
   "metadata": {},
   "source": [
    "# Generate Synthesizability Predictions Using a Pre-trained SynthNN Model"
   ]
  },
  {
   "cell_type": "code",
   "execution_count": 2,
   "id": "b605d9af",
   "metadata": {},
   "outputs": [
    {
     "name": "stdout",
     "output_type": "stream",
     "text": [
      "WARNING:tensorflow:From /opt/anaconda3/lib/python3.8/site-packages/tensorflow/python/util/tf_should_use.py:247: initialize_all_variables (from tensorflow.python.ops.variables) is deprecated and will be removed after 2017-03-02.\n",
      "Instructions for updating:\n",
      "Use `tf.global_variables_initializer` instead.\n"
     ]
    },
    {
     "data": {
      "text/plain": [
       "array([0.00387382, 0.6501727 ], dtype=float32)"
      ]
     },
     "execution_count": 2,
     "metadata": {},
     "output_type": "execute_result"
    }
   ],
   "source": [
    "#Option 1: Provide list of formulas directly\n",
    "#Expected output:\n",
    "#array([0.00387382, 0.6501727 ]\n",
    "\n",
    "data=['Na3O','KCl']\n",
    "output_file_name='output_formula_preds.txt'\n",
    "saved_model_dir='./Trained_models/Paper_final_model/'\n",
    "\n",
    "synthNN_predict(data,output_file_name, saved_model_dir)"
   ]
  },
  {
   "cell_type": "code",
   "execution_count": 3,
   "id": "eba3429a",
   "metadata": {},
   "outputs": [
    {
     "data": {
      "text/plain": [
       "array([0.00387382, 0.6501727 ], dtype=float32)"
      ]
     },
     "execution_count": 3,
     "metadata": {},
     "output_type": "execute_result"
    }
   ],
   "source": [
    "#Option 2: Read in formulas from text file\n",
    "data=np.loadtxt('input_formulas.txt',dtype=str)\n",
    "output_file_name='output_formula_preds.txt'\n",
    "saved_model_dir='./Trained_models/Paper_final_model/'\n",
    "\n",
    "synthNN_predict(data,output_file_name, saved_model_dir)"
   ]
  }
 ],
 "metadata": {
  "kernelspec": {
   "display_name": "Python 3",
   "language": "python",
   "name": "python3"
  },
  "language_info": {
   "codemirror_mode": {
    "name": "ipython",
    "version": 3
   },
   "file_extension": ".py",
   "mimetype": "text/x-python",
   "name": "python",
   "nbconvert_exporter": "python",
   "pygments_lexer": "ipython3",
   "version": "3.8.8"
  }
 },
 "nbformat": 4,
 "nbformat_minor": 5
}
